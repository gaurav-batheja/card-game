{
 "cells": [
  {
   "cell_type": "code",
   "execution_count": 2,
   "id": "9a0bb849-b6fb-4e8b-8eea-5b58a080f552",
   "metadata": {},
   "outputs": [],
   "source": [
    "def generate_deck()->list:\n",
    "    # donot hard code this function.\n",
    "    # S2,S3, ... SA,H2,H3,...,HA,C2,C3,...,CA,D2,D3,...,DA in the same order\n",
    "\n",
    "\n",
    "    \n",
    "    # suits = [\"S\",\"H\",\"C\",\"D\"]\n",
    "    # cards=[str(i) for i in range(2,11)]\n",
    "    # cards += [\"J\",\"Q\",\"K\",\"A\"]\n",
    "    # deck=[s+c for s in suits for c in cards] \n",
    "    # return deck\n",
    "\n"
   ]
  },
  {
   "cell_type": "code",
   "execution_count": 3,
   "id": "a0c820d3-4336-4f93-94eb-3e3cfa0bc48c",
   "metadata": {},
   "outputs": [],
   "source": [
    "cards = generate_deck()\n",
    "n_hands = 5\n",
    "import random\n",
    "random.seed(5)\n",
    "random.shuffle(cards)"
   ]
  },
  {
   "cell_type": "code",
   "execution_count": 4,
   "id": "d5948d25-47c1-4401-85b8-83cbda8f8bd3",
   "metadata": {
    "scrolled": true
   },
   "outputs": [],
   "source": [
    "def distribute_cards(cards:list,n_hands:int)-> dict[dict]:\n",
    "    # cards distributed one by one starting from index 0 going in circles.\n",
    "    hands = {} # dict{dict} with palyer no. as and card suit as keys {1:{\"S\":[\"S1\",\"S2\",....],\"H\":[\"H1\",...]},2:{....}}\n",
    "    curr_player=1 \n",
    "    for card in cards:\n",
    "        if curr_player in hands.keys():\n",
    "            if card[0] in hands[curr_player].keys():\n",
    "                hands[curr_player][card[0]].append(card)\n",
    "            else:\n",
    "                hands[curr_player][card[0]]=[card]\n",
    "        else:\n",
    "            hands[curr_player]={}\n",
    "            hands[curr_player][card[0]]=[card]\n",
    "        if curr_player == n_hands:\n",
    "            curr_player = 1\n",
    "        else:\n",
    "            curr_player+=1\n",
    "    return hands"
   ]
  },
  {
   "cell_type": "code",
   "execution_count": 40,
   "id": "db4c80e0-87be-47aa-bea7-9cd539f97a19",
   "metadata": {},
   "outputs": [
    {
     "name": "stdout",
     "output_type": "stream",
     "text": [
      "{1: {'S': ['SK', 'S5'], 'C': ['C3', 'C7', 'C10', 'CK', 'C9'], 'D': ['DJ', 'D5'], 'H': ['H8', 'H5']}, 2: {'H': ['H7', 'HA', 'H6'], 'D': ['DQ', 'D9', 'D4', 'D2'], 'S': ['S6', 'S7', 'S2'], 'C': ['C6']}, 3: {'S': ['SJ', 'S4', 'S10'], 'C': ['CQ', 'CJ'], 'D': ['D3', 'D7'], 'H': ['H10', 'HQ', 'H4']}, 4: {'C': ['CA', 'C8', 'C2', 'C5'], 'D': ['DK'], 'H': ['H3', 'H2', 'HJ'], 'S': ['S8', 'S9']}, 5: {'D': ['D6', 'DA', 'D8', 'D10'], 'C': ['C4'], 'H': ['H9', 'HK'], 'S': ['SA', 'SQ', 'S3']}}\n"
     ]
    }
   ],
   "source": [
    "hands = distribute_cards(cards, n_hands)\n",
    "print(hands)"
   ]
  },
  {
   "cell_type": "code",
   "execution_count": 44,
   "id": "56898e98-aa45-48a6-8076-f19da964e1ac",
   "metadata": {},
   "outputs": [],
   "source": [
    "def first_player(hands):  #To find the player with ace of spades, first player of the game\n",
    "    for player in hands:\n",
    "        if \"SA\" in hands[player][\"S\"]:\n",
    "            return player"
   ]
  },
  {
   "cell_type": "code",
   "execution_count": 45,
   "id": "2be3d9a5-e06d-4eb3-b622-ebb6c4c796f1",
   "metadata": {},
   "outputs": [],
   "source": [
    "def order_sort_key(card):  #Used as key for the sort card fucntion to be able to sort the cards as instructed\n",
    "    order={'S2' : 1,'H2' : 2,'C2' : 3,'D2' : 4,'S3' : 5,'H3' : 6,'C3' : 7,'D3' : 8,'S4' : 9,'H4' : 10,\n",
    "       'C4' : 11,'D4' : 12,'S5' : 13,'H5' : 14,'C5' : 15,'D5' : 16,'S6' : 17,'H6' : 18,\n",
    "       'C6' : 19,'D6' : 20,'S7' : 21,'H7' : 22,'C7' : 23,'D7' : 24,'S8' : 25,'H8' : 26,\n",
    "       'C8' : 27,'D8' : 28,'S9' : 29,'H9' : 30,'C9' : 31,'D9' : 32,'S10' : 33,'H10' : 34,\n",
    "       'C10' : 35,'D10' : 36,'SJ' : 37,'HJ' : 38,'CJ' : 39,'DJ' : 40,'SQ' : 41,'HQ' : 42,'CQ' : 43,'DQ' : 44,\n",
    "       'SK' : 45,'HK' : 46,'CK' : 47,'DK' : 48,'SA' : 49,'HA' : 50,'CA' : 51,'DA' : 52,}\n",
    "    return order[card]"
   ]
  },
  {
   "cell_type": "code",
   "execution_count": 47,
   "id": "2015b750-1604-438c-9513-caa889fa5de2",
   "metadata": {},
   "outputs": [],
   "source": [
    "def sort_card(cards):  # sorts the given list of card with order_sort_key\n",
    "    cards.sort(key=order_sort_key)\n",
    "    return cards\n",
    "\n",
    "def min_card(hands,player): # gives the smallest card from player's deck using sort_card function\n",
    "    player_cards=[]\n",
    "    for suit in hands[player]:\n",
    "        player_cards += hands[player][suit]\n",
    "    sorted_cards=sort_card(player_cards)\n",
    "    return sorted_cards[0]\n",
    "\n",
    "def max_card(hands,player): # gives the largest card from player's deck using sort_card function\n",
    "    player_cards=[]\n",
    "    for suit in hands[player]:\n",
    "        player_cards += hands[player][suit]\n",
    "    sorted_cards=sort_card(player_cards)\n",
    "    return sorted_cards[-1]"
   ]
  },
  {
   "cell_type": "code",
   "execution_count": 53,
   "id": "fd3f953a-1a36-425d-8e66-9e3fbe092700",
   "metadata": {
    "scrolled": true
   },
   "outputs": [],
   "source": [
    "def play_hand(hands, cards_on_the_table, suit_played,player,max_on_table,max_card_player)->bool: # use appropriate data types\n",
    "    '''Play the card according to the rules by removing cards from hand and adding it to the cards on the table.\n",
    "    Return a bool corresponding to whether the played card results in collecting the cards.\n",
    "    Use that bool to play the next round.\n",
    "    '''\n",
    "    '''\n",
    "    hands stores all players and their cards , cards_on_the_table is list of all the cards thrown by player in a particular round, \n",
    "    suit_played is the suit being played in the current round,player stores the player no. , \n",
    "    max_on_table stores the biggest card in cards_on_the_table, \n",
    "    max_card_player is the player who played max_on_table card    '''\n",
    "    \n",
    "    player_cards=hands[player][suit_played[0]]\n",
    "    if player_cards:\n",
    "        sorted_cards=sort_card(player_cards) #taking all cards from the palyer of the current suit and sorting it to take out the min \n",
    "        cards_on_the_table.append(sorted_cards[0])\n",
    "\n",
    "        max_on_table = sort_card([sorted_cards[0],max_on_table]) \n",
    "        max_on_table=max_on_table[1] \n",
    "        \n",
    "        if max_on_table == sorted_cards[0]: #checking if the card played is the greater then the current maximum \n",
    "            max_card_player = player\n",
    "            \n",
    "        hands[player][suit_played[0]].remove(sorted_cards[0])\n",
    "        return hands, cards_on_the_table, suit_played,player,max_on_table,max_card_player\n",
    "        \n",
    "    else:\n",
    "        card_to_play=max_card(hands,player) #if player doesn't have any cards from the current suit \n",
    "        for card in cards_on_the_table:\n",
    "            if card[0] in hands[player]:\n",
    "                hands[player][card[0]].append(card)\n",
    "            else:\n",
    "                hands[player][card[0]]=[]\n",
    "                hands[player][card[0]].append(card)\n",
    "        cards_on_the_table = [card_to_play]\n",
    "        suit_played=card_to_play[0]\n",
    "        hands[player][suit_played[0]].remove(card_to_play)\n",
    "        max_on_table= card_to_play\n",
    "        max_card_player=player\n",
    "        return  hands, cards_on_the_table, suit_played,player,max_on_table,max_card_player"
   ]
  },
  {
   "cell_type": "code",
   "execution_count": 49,
   "id": "50634b35-4055-4187-8ce3-197e2d7c709f",
   "metadata": {},
   "outputs": [],
   "source": [
    "def safe_player(hands,player): #gives True if the player has no cards .i.e the player cannot lose\n",
    "    check=False\n",
    "    for suit in hands[player]:\n",
    "        if hands[player][suit]:\n",
    "            check=True\n",
    "    if not check:\n",
    "        return True\n",
    "    return False\n",
    "\n",
    "def find_next_player(current_player,n_hands,hands): #finding the next player who has cards after the current player and making him/her current palyer .i.e safe_player is false\n",
    "    safeplayers= set()\n",
    "    for i in range(1,n_hands+1):\n",
    "        if current_player>n_hands:\n",
    "            current_player-=n_hands\n",
    "        if safe_player(hands,current_player):\n",
    "            safeplayers.add(current_player)\n",
    "            current_player+=1\n",
    "    return current_player,safeplayers #safeplayers is the set of players with no cards"
   ]
  },
  {
   "cell_type": "code",
   "execution_count": 50,
   "id": "09f01b63-5339-4aed-a541-ceb66694ece6",
   "metadata": {},
   "outputs": [],
   "source": [
    "def n_remaining(hands): #gives the total players with cards left\n",
    "    total=0\n",
    "    for player in hands:\n",
    "        check=False\n",
    "        for suit in hands[player]:\n",
    "            if hands[player][suit]:\n",
    "                check=True\n",
    "        if check:\n",
    "            total+=1\n",
    "    return total"
   ]
  },
  {
   "cell_type": "code",
   "execution_count": 51,
   "id": "b5c9b8f7-f565-42b4-a40a-d15cf12eed6f",
   "metadata": {},
   "outputs": [],
   "source": [
    "def play_game(hands):\n",
    "\n",
    "    current_player = first_player(hands)# find starting player based on hands(player with SA) and throwing the smallest card \n",
    "    card=min_card(hands,current_player)\n",
    "    cards_on_the_table = [card]\n",
    "    max_on_table=card\n",
    "    max_card_player=current_player\n",
    "    hands[current_player][card[0]].remove(card)\n",
    "    suit_played=cards[0]\n",
    "    safeplayers= set()\n",
    "\n",
    "    \n",
    "    while n_remaining(hands)>1:\n",
    "       \n",
    "        if len(cards_on_the_table)==n_hands - len(safeplayers): #if all players have card of the current suit then finidng the largest card and the player \n",
    "            current_player=max_card_player\n",
    "            card=min_card(hands,current_player)\n",
    "            hands[current_player][card[0]].remove(card)\n",
    "            cards_on_the_table=[card]\n",
    "            max_on_table=card\n",
    "            suit_played=card[0]\n",
    "        \n",
    "                \n",
    "        current_player+=1 \n",
    "        next_player ,safeplayers= find_next_player(current_player,n_hands,hands) #determine the next player with cards\n",
    "        hands,cards_on_the_table,suit_played,current_player,max_on_table,max_card_player = play_hand(hands, cards_on_the_table,suit_played,next_player,max_on_table,max_card_player)\n",
    "    \n",
    "    for player in hands:\n",
    "        for suit in hands[player]:\n",
    "            if hands[player][suit]:\n",
    "                loser=player\n",
    "    # loser = # player who has cards in hand\n",
    "    return loser, hands"
   ]
  },
  {
   "cell_type": "code",
   "execution_count": 54,
   "id": "b04c3024-de04-43e3-8e97-c5761675a379",
   "metadata": {},
   "outputs": [
    {
     "name": "stdout",
     "output_type": "stream",
     "text": [
      "3 {1: {'S': [], 'C': [], 'D': [], 'H': []}, 2: {'H': [], 'D': [], 'S': [], 'C': []}, 3: {'S': ['S10', 'SA', 'S7'], 'C': [], 'D': [], 'H': ['HJ']}, 4: {'C': [], 'D': [], 'H': [], 'S': []}, 5: {'D': [], 'C': [], 'H': [], 'S': []}}\n"
     ]
    }
   ],
   "source": [
    "hands = distribute_cards(cards, n_hands)\n",
    "loser, hand = play_game(hands)\n",
    "print(loser,hand)"
   ]
  }
 ],
 "metadata": {
  "kernelspec": {
   "display_name": "Python 3 (ipykernel)",
   "language": "python",
   "name": "python3"
  },
  "language_info": {
   "codemirror_mode": {
    "name": "ipython",
    "version": 3
   },
   "file_extension": ".py",
   "mimetype": "text/x-python",
   "name": "python",
   "nbconvert_exporter": "python",
   "pygments_lexer": "ipython3",
   "version": "3.12.0"
  }
 },
 "nbformat": 4,
 "nbformat_minor": 5
}
